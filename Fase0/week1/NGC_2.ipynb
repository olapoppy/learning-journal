{
 "cells": [
  {
   "cell_type": "markdown",
   "metadata": {},
   "source": [
    "1 Konversi kelvin -> celsius & celsius -> kelvin"
   ]
  },
  {
   "cell_type": "code",
   "execution_count": 8,
   "metadata": {},
   "outputs": [],
   "source": [
    "def ck(x, suhu_converted):\n",
    "    if suhu_converted == 'celsius':\n",
    "        suhu_akhir = x - 273.15\n",
    "    elif suhu_converted == 'kelvin':\n",
    "        suhu_akhir = x + 273.15\n",
    "    return suhu_akhir "
   ]
  },
  {
   "cell_type": "code",
   "execution_count": 9,
   "metadata": {},
   "outputs": [
    {
     "data": {
      "text/plain": [
       "26.850000000000023"
      ]
     },
     "execution_count": 9,
     "metadata": {},
     "output_type": "execute_result"
    }
   ],
   "source": [
    "ck (300, 'celsius')"
   ]
  },
  {
   "cell_type": "code",
   "execution_count": 10,
   "metadata": {},
   "outputs": [
    {
     "data": {
      "text/plain": [
       "310.95"
      ]
     },
     "execution_count": 10,
     "metadata": {},
     "output_type": "execute_result"
    }
   ],
   "source": [
    "ck (37.8, 'kelvin')"
   ]
  },
  {
   "cell_type": "markdown",
   "metadata": {},
   "source": [
    "2 Konversi jadi Fahrenheit"
   ]
  },
  {
   "cell_type": "code",
   "execution_count": 13,
   "metadata": {},
   "outputs": [],
   "source": [
    "def _fahrenheit(y, suhu_awal):\n",
    "    if suhu_awal == 'celsius':\n",
    "        suhu_fahrenheit = (y*9/5) + 32\n",
    "    elif suhu_awal == 'kelvin':\n",
    "        suhu_fahrenheit = ((y - 273.15)*9/5) + 32\n",
    "    return(suhu_fahrenheit)"
   ]
  },
  {
   "cell_type": "code",
   "execution_count": 14,
   "metadata": {},
   "outputs": [
    {
     "data": {
      "text/plain": [
       "99.5"
      ]
     },
     "execution_count": 14,
     "metadata": {},
     "output_type": "execute_result"
    }
   ],
   "source": [
    "_fahrenheit(37.5, 'celsius')"
   ]
  },
  {
   "cell_type": "code",
   "execution_count": 15,
   "metadata": {},
   "outputs": [
    {
     "data": {
      "text/plain": [
       "80.33000000000004"
      ]
     },
     "execution_count": 15,
     "metadata": {},
     "output_type": "execute_result"
    }
   ],
   "source": [
    "_fahrenheit(300, 'kelvin')"
   ]
  },
  {
   "cell_type": "markdown",
   "metadata": {},
   "source": [
    "3 Konversi dari fahrenheit"
   ]
  },
  {
   "cell_type": "code",
   "execution_count": 22,
   "metadata": {},
   "outputs": [],
   "source": [
    "def fahrenheit_(F, suhu_asal):\n",
    "    if suhu_asal == 'celsius':\n",
    "        fahrenheit_akhir = (F - 32)*5/9\n",
    "    if suhu_asal == 'kelvin':\n",
    "        fahrenheit_akhir = ((F-32)*5/9) - 273.15\n",
    "    return fahrenheit_akhir"
   ]
  },
  {
   "cell_type": "code",
   "execution_count": 24,
   "metadata": {},
   "outputs": [
    {
     "data": {
      "text/plain": [
       "148.88888888888889"
      ]
     },
     "execution_count": 24,
     "metadata": {},
     "output_type": "execute_result"
    }
   ],
   "source": [
    "fahrenheit_(300, 'celsius')"
   ]
  },
  {
   "cell_type": "code",
   "execution_count": 26,
   "metadata": {},
   "outputs": [
    {
     "data": {
      "text/plain": [
       "-124.26111111111109"
      ]
     },
     "execution_count": 26,
     "metadata": {},
     "output_type": "execute_result"
    }
   ],
   "source": [
    "fahrenheit_(300, 'kelvin')"
   ]
  }
 ],
 "metadata": {
  "interpreter": {
   "hash": "8ac26d1b0d03b48218d3452c582b3180554dd236811a1d66567fa05fce75ce83"
  },
  "kernelspec": {
   "display_name": "Python 3.10.0 ('Hacktiv8')",
   "language": "python",
   "name": "python3"
  },
  "language_info": {
   "codemirror_mode": {
    "name": "ipython",
    "version": 3
   },
   "file_extension": ".py",
   "mimetype": "text/x-python",
   "name": "python",
   "nbconvert_exporter": "python",
   "pygments_lexer": "ipython3",
   "version": "3.10.0"
  },
  "orig_nbformat": 4
 },
 "nbformat": 4,
 "nbformat_minor": 2
}
