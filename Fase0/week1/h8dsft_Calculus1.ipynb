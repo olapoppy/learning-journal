{
 "cells": [
  {
   "cell_type": "code",
   "execution_count": 1,
   "metadata": {},
   "outputs": [],
   "source": [
    "import sympy as sy"
   ]
  },
  {
   "cell_type": "markdown",
   "metadata": {},
   "source": [
    "1"
   ]
  },
  {
   "cell_type": "code",
   "execution_count": 5,
   "metadata": {},
   "outputs": [
    {
     "data": {
      "text/latex": [
       "$\\displaystyle x^{2} + 2 x + 1$"
      ],
      "text/plain": [
       "x**2 + 2*x + 1"
      ]
     },
     "execution_count": 5,
     "metadata": {},
     "output_type": "execute_result"
    }
   ],
   "source": [
    "x = sy.Symbol('x')\n",
    "y = sy.Symbol('y')\n",
    "\n",
    "y = x**2 + 2*x + 1\n",
    "y"
   ]
  },
  {
   "cell_type": "markdown",
   "metadata": {},
   "source": [
    "secara symbolic"
   ]
  },
  {
   "cell_type": "code",
   "execution_count": 8,
   "metadata": {},
   "outputs": [
    {
     "data": {
      "text/latex": [
       "$\\displaystyle 2 x + 2$"
      ],
      "text/plain": [
       "2*x + 2"
      ]
     },
     "execution_count": 8,
     "metadata": {},
     "output_type": "execute_result"
    }
   ],
   "source": [
    "dy = y.diff()\n",
    "dy"
   ]
  },
  {
   "cell_type": "markdown",
   "metadata": {},
   "source": [
    "secara numeric"
   ]
  },
  {
   "cell_type": "code",
   "execution_count": 9,
   "metadata": {},
   "outputs": [],
   "source": [
    "import numpy as np"
   ]
  },
  {
   "cell_type": "code",
   "execution_count": 12,
   "metadata": {},
   "outputs": [
    {
     "data": {
      "text/plain": [
       "array([9.80100000e+03, 9.00949646e+03, 8.25131237e+03, 7.52644773e+03,\n",
       "       6.83490254e+03, 6.17667680e+03, 5.55177051e+03, 4.96018367e+03,\n",
       "       4.40191628e+03, 3.87696835e+03, 3.38533986e+03, 2.92703082e+03,\n",
       "       2.50204123e+03, 2.11037110e+03, 1.75202041e+03, 1.42698917e+03,\n",
       "       1.13527738e+03, 8.76885048e+02, 6.51812162e+02, 4.60058726e+02,\n",
       "       3.01624740e+02, 1.76510204e+02, 8.47151187e+01, 2.62394835e+01,\n",
       "       1.08329863e+00, 9.24656393e+00, 5.07292795e+01, 1.25531445e+02,\n",
       "       2.33653061e+02, 3.75094127e+02, 5.49854644e+02, 7.57934611e+02,\n",
       "       9.99334027e+02, 1.27405289e+03, 1.58209121e+03, 1.92344898e+03,\n",
       "       2.29812620e+03, 2.70612287e+03, 3.14743898e+03, 3.62207455e+03,\n",
       "       4.13002957e+03, 4.67130404e+03, 5.24589796e+03, 5.85381133e+03,\n",
       "       6.49504415e+03, 7.16959642e+03, 7.87746814e+03, 8.61865931e+03,\n",
       "       9.39316993e+03, 1.02010000e+04])"
      ]
     },
     "execution_count": 12,
     "metadata": {},
     "output_type": "execute_result"
    }
   ],
   "source": [
    "X = np.linspace(-100, 100)\n",
    "Y = X**2 + 2*X + 1\n",
    "Y"
   ]
  },
  {
   "cell_type": "code",
   "execution_count": 14,
   "metadata": {},
   "outputs": [
    {
     "data": {
      "text/plain": [
       "array([-193.91836735, -189.83673469, -181.67346939, -173.51020408,\n",
       "       -165.34693878, -157.18367347, -149.02040816, -140.85714286,\n",
       "       -132.69387755, -124.53061224, -116.36734694, -108.20408163,\n",
       "       -100.04081633,  -91.87755102,  -83.71428571,  -75.55102041,\n",
       "        -67.3877551 ,  -59.2244898 ,  -51.06122449,  -42.89795918,\n",
       "        -34.73469388,  -26.57142857,  -18.40816327,  -10.24489796,\n",
       "         -2.08163265,    6.08163265,   14.24489796,   22.40816327,\n",
       "         30.57142857,   38.73469388,   46.89795918,   55.06122449,\n",
       "         63.2244898 ,   71.3877551 ,   79.55102041,   87.71428571,\n",
       "         95.87755102,  104.04081633,  112.20408163,  120.36734694,\n",
       "        128.53061224,  136.69387755,  144.85714286,  153.02040816,\n",
       "        161.18367347,  169.34693878,  177.51020408,  185.67346939,\n",
       "        193.83673469,  197.91836735])"
      ]
     },
     "execution_count": 14,
     "metadata": {},
     "output_type": "execute_result"
    }
   ],
   "source": [
    "dY = np.gradient(Y,X)\n",
    "dY"
   ]
  },
  {
   "cell_type": "code",
   "execution_count": 15,
   "metadata": {},
   "outputs": [
    {
     "data": {
      "text/plain": [
       "[<matplotlib.lines.Line2D at 0x1e0b5f95a80>]"
      ]
     },
     "execution_count": 15,
     "metadata": {},
     "output_type": "execute_result"
    },
    {
     "data": {
      "image/png": "[encoded data removed]",
      "text/plain": [
       "<Figure size 432x288 with 1 Axes>"
      ]
     },
     "metadata": {
      "needs_background": "light"
     },
     "output_type": "display_data"
    }
   ],
   "source": [
    "import matplotlib.pyplot as plt\n",
    "\n",
    "plt.plot(X,Y)"
   ]
  },
  {
   "cell_type": "markdown",
   "metadata": {},
   "source": [
    "2"
   ]
  },
  {
   "cell_type": "markdown",
   "metadata": {},
   "source": [
    "secara symbolic"
   ]
  },
  {
   "cell_type": "code",
   "execution_count": 20,
   "metadata": {},
   "outputs": [
    {
     "data": {
      "text/latex": [
       "$\\displaystyle 4 a^{3} + 3 a^{2} + 2 a + 1$"
      ],
      "text/plain": [
       "4*a**3 + 3*a**2 + 2*a + 1"
      ]
     },
     "execution_count": 20,
     "metadata": {},
     "output_type": "execute_result"
    }
   ],
   "source": [
    "a = sy.Symbol('a')\n",
    "b = sy.Symbol('b')\n",
    "\n",
    "b = 4*a**3 + 3*a**2 + 2*a + 1\n",
    "b"
   ]
  },
  {
   "cell_type": "code",
   "execution_count": 23,
   "metadata": {},
   "outputs": [
    {
     "data": {
      "text/latex": [
       "$\\displaystyle 12 a^{2} + 6 a + 2$"
      ],
      "text/plain": [
       "12*a**2 + 6*a + 2"
      ]
     },
     "execution_count": 23,
     "metadata": {},
     "output_type": "execute_result"
    }
   ],
   "source": [
    "db = b.diff()\n",
    "db"
   ]
  },
  {
   "cell_type": "markdown",
   "metadata": {},
   "source": [
    "secara numeric"
   ]
  },
  {
   "cell_type": "code",
   "execution_count": 24,
   "metadata": {},
   "outputs": [
    {
     "data": {
      "text/plain": [
       "array([-3.97019900e+06, -3.50251359e+06, -3.07307960e+06, -2.68026503e+06,\n",
       "       -2.32243793e+06, -1.99796632e+06, -1.70521823e+06, -1.44256168e+06,\n",
       "       -1.20836470e+06, -1.00099532e+06, -8.18821564e+05, -6.60211457e+05,\n",
       "       -5.23533029e+05, -4.07154306e+05, -3.09443315e+05, -2.28768083e+05,\n",
       "       -1.63496636e+05, -1.11997003e+05, -7.26372086e+04, -4.37852812e+04,\n",
       "       -2.38092474e+04, -1.10771341e+04, -3.95696819e+03, -8.16776607e+02,\n",
       "       -2.45862778e+01,  5.15758655e+01,  1.04368290e+03,  4.58370789e+03,\n",
       "        1.23036239e+04,  2.58354040e+04,  4.68110213e+04,  7.68624489e+04,\n",
       "        1.17621660e+05,  1.70720627e+05,  2.37791324e+05,  3.20465723e+05,\n",
       "        4.20375798e+05,  5.39153521e+05,  6.78430867e+05,  8.39839807e+05,\n",
       "        1.02501232e+06,  1.23558036e+06,  1.47317593e+06,  1.73943098e+06,\n",
       "        2.03597749e+06,  2.36444743e+06,  2.72647278e+06,  3.12368551e+06,\n",
       "        3.55771759e+06,  4.03020100e+06])"
      ]
     },
     "execution_count": 24,
     "metadata": {},
     "output_type": "execute_result"
    }
   ],
   "source": [
    "A = np.linspace(-100, 100)\n",
    "B = 4*A**3 + 3*A**2 + 2*A + 1\n",
    "B"
   ]
  },
  {
   "cell_type": "code",
   "execution_count": 25,
   "metadata": {},
   "outputs": [
    {
     "data": {
      "text/plain": [
       "array([1.14582925e+05, 1.09897127e+05, 1.00725449e+05, 9.19536035e+04,\n",
       "       8.35815918e+04, 7.56094136e+04, 6.80370687e+04, 6.08645573e+04,\n",
       "       5.40918792e+04, 4.77190346e+04, 4.17460233e+04, 3.61728455e+04,\n",
       "       3.09995010e+04, 2.62259900e+04, 2.18523124e+04, 1.78784681e+04,\n",
       "       1.43044573e+04, 1.11302799e+04, 8.35593586e+03, 5.98142524e+03,\n",
       "       4.00674802e+03, 2.43190421e+03, 1.25689379e+03, 4.81716785e+02,\n",
       "       1.06373178e+02, 1.30862974e+02, 5.55186172e+02, 1.37934277e+03,\n",
       "       2.60333278e+03, 4.22715618e+03, 6.25081299e+03, 8.67430321e+03,\n",
       "       1.14976268e+04, 1.47207838e+04, 1.83437743e+04, 2.23665981e+04,\n",
       "       2.67892553e+04, 3.16117459e+04, 3.68340700e+04, 4.24562274e+04,\n",
       "       4.84782182e+04, 5.49000425e+04, 6.17217001e+04, 6.89431912e+04,\n",
       "       7.65645156e+04, 8.45856735e+04, 9.30066647e+04, 1.01827489e+05,\n",
       "       1.11048147e+05, 1.15758435e+05])"
      ]
     },
     "execution_count": 25,
     "metadata": {},
     "output_type": "execute_result"
    }
   ],
   "source": [
    "dB = np.gradient(B,A)\n",
    "dB"
   ]
  },
  {
   "cell_type": "code",
   "execution_count": 29,
   "metadata": {},
   "outputs": [
    {
     "data": {
      "text/plain": [
       "[<matplotlib.lines.Line2D at 0x1e0b8635ea0>]"
      ]
     },
     "execution_count": 29,
     "metadata": {},
     "output_type": "execute_result"
    },
    {
     "data": {
      "image/png": "[encoded data removed]",
      "text/plain": [
       "<Figure size 432x288 with 1 Axes>"
      ]
     },
     "metadata": {
      "needs_background": "light"
     },
     "output_type": "display_data"
    }
   ],
   "source": [
    "plt.plot(A,B)"
   ]
  }
 ],
 "metadata": {
  "interpreter": {
   "hash": "8ac26d1b0d03b48218d3452c582b3180554dd236811a1d66567fa05fce75ce83"
  },
  "kernelspec": {
   "display_name": "Python 3.10.0 ('Hacktiv8')",
   "language": "python",
   "name": "python3"
  },
  "language_info": {
   "codemirror_mode": {
    "name": "ipython",
    "version": 3
   },
   "file_extension": ".py",
   "mimetype": "text/x-python",
   "name": "python",
   "nbconvert_exporter": "python",
   "pygments_lexer": "ipython3",
   "version": "3.10.0"
  },
  "orig_nbformat": 4
 },
 "nbformat": 4,
 "nbformat_minor": 2
}
