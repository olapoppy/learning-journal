{
  "nbformat": 4,
  "nbformat_minor": 0,
  "metadata": {
    "colab": {
      "name": "NG1_annisa.ipynb",
      "provenance": [],
      "collapsed_sections": []
    },
    "kernelspec": {
      "display_name": "Python 3",
      "name": "python3"
    },
    "language_info": {
      "name": "python"
    },
    "accelerator": "GPU"
  },
  "cells": [
    {
      "cell_type": "markdown",
      "metadata": {
        "id": "1ioMQZmS3xGH"
      },
      "source": [
        "Hi! Welcome to NG1 for Phase 2. As you have learned some basics about NN, now we will apply those knowledge in some fun experiments.\n",
        "\n",
        "By doing this NG Challenge, we hope that you have deeper understanding on:\n",
        "1. Initialize NN module with architecture and hyperparameter in Keras.\n",
        "2. Changing hyperparameter.\n",
        "3. Flow of training model in Keras.\n",
        "3. Loss curve and model performance analysis.\n",
        "\n",
        "Enjoy!"
      ]
    },
    {
      "cell_type": "code",
      "metadata": {
        "id": "l5eQzQKvykI3"
      },
      "source": [
        "import tensorflow as tf\n",
        "from tensorflow import keras\n",
        "import numpy as np\n",
        "\n",
        "import matplotlib.pyplot as plt\n",
        "%matplotlib inline"
      ],
      "execution_count": 1,
      "outputs": []
    },
    {
      "cell_type": "code",
      "metadata": {
        "id": "3iLF2dbnumyY"
      },
      "source": [
        "def convert_to_gray(inp_data):\n",
        "  inp_data=tf.squeeze(tf.image.rgb_to_grayscale(inp_data))\n",
        "  return inp_data\n",
        "\n",
        "def extract_data(cf10_x,cf10_y,id_class):\n",
        "  idx=np.where(cf10_y == [id_class])[0]\n",
        "  x_train=cf10_x[idx,:,:,:]\n",
        "  return x_train"
      ],
      "execution_count": 2,
      "outputs": []
    },
    {
      "cell_type": "markdown",
      "metadata": {
        "id": "5iyq0RN5y6d4"
      },
      "source": [
        "### Load Cifar 10 Dataset"
      ]
    },
    {
      "cell_type": "code",
      "metadata": {
        "id": "jb9MSwZZy8iD",
        "colab": {
          "base_uri": "https://localhost:8080/"
        },
        "outputId": "3a510273-3a2c-4e51-9865-78060e40a517"
      },
      "source": [
        "#Load CIFAR-10 Dataset with Keras function\n",
        "(cf10_x_train, cf10_y_train), (x_test, y_test) = keras.datasets.cifar10.load_data()"
      ],
      "execution_count": 3,
      "outputs": [
        {
          "output_type": "stream",
          "name": "stdout",
          "text": [
            "Downloading data from https://www.cs.toronto.edu/~kriz/cifar-10-python.tar.gz\n",
            "170500096/170498071 [==============================] - 11s 0us/step\n",
            "170508288/170498071 [==============================] - 11s 0us/step\n"
          ]
        }
      ]
    },
    {
      "cell_type": "code",
      "metadata": {
        "colab": {
          "base_uri": "https://localhost:8080/"
        },
        "id": "kdKni4Ckht1V",
        "outputId": "32781ecb-588a-447f-eff1-27a3b1fb6a49"
      },
      "source": [
        "cf10_x_train.shape"
      ],
      "execution_count": 4,
      "outputs": [
        {
          "output_type": "execute_result",
          "data": {
            "text/plain": [
              "(50000, 32, 32, 3)"
            ]
          },
          "metadata": {},
          "execution_count": 4
        }
      ]
    },
    {
      "cell_type": "markdown",
      "metadata": {
        "id": "ePVTysUuj6a9"
      },
      "source": [
        "For this experiment we use only three classes, automobile, ship and truck. Automobile is indexed as Class 1, Ship as Class 8, and Truck as Class 9 on the CIFAR-10. For our dataset, we will have Automobile as class 0, ship as class 1, and truck as class 2.\n",
        "\n",
        "Color pictures are represented in 3 dimension, representing 3 color dimension R,G,B. Thus, for simpler processing, we also convert the images to grayscale."
      ]
    },
    {
      "cell_type": "code",
      "metadata": {
        "id": "dG57ZhZehwiS"
      },
      "source": [
        "x_train_1 = extract_data(cf10_x_train, cf10_y_train,1)\n",
        "x_train_1 = convert_to_gray(x_train_1)"
      ],
      "execution_count": 5,
      "outputs": []
    },
    {
      "cell_type": "code",
      "metadata": {
        "id": "mNTKd-efi5kx"
      },
      "source": [
        "# Write your code to take data with label 8 and 9\n",
        "x_train_2 = extract_data(cf10_x_train, cf10_y_train,7)\n",
        "x_train_3 = extract_data(cf10_x_train, cf10_y_train,8)\n",
        "\n",
        "x_train_2 = convert_to_gray(x_train_2)\n",
        "x_train_3 = convert_to_gray(x_train_3)"
      ],
      "execution_count": 6,
      "outputs": []
    },
    {
      "cell_type": "code",
      "metadata": {
        "colab": {
          "base_uri": "https://localhost:8080/",
          "height": 195
        },
        "id": "-6LdearejSlp",
        "outputId": "682446ff-c571-4271-d35b-05783744b1a9"
      },
      "source": [
        "fig,axs = plt.subplots(1,3,figsize=(8,4))\n",
        "axs[0].imshow(x_train_1[12],cmap='gray')\n",
        "axs[0].axis('off');axs[0].set_title(\"Sample Car\")\n",
        "axs[1].imshow(x_train_2[5],cmap='gray')\n",
        "axs[1].axis('off');axs[1].set_title(\"Sample Ship\")\n",
        "axs[2].imshow(x_train_3[5],cmap='gray')\n",
        "axs[2].axis('off');axs[2].set_title(\"Sample Truck\")\n",
        "#plt.axis('off')"
      ],
      "execution_count": 7,
      "outputs": [
        {
          "output_type": "execute_result",
          "data": {
            "text/plain": [
              "Text(0.5, 1.0, 'Sample Truck')"
            ]
          },
          "metadata": {},
          "execution_count": 7
        },
        {
          "output_type": "display_data",
          "data": {
            "text/plain": [
              "<Figure size 576x288 with 3 Axes>"
            ],
            "image/png": "[encoded data removed]"
          },
          "metadata": {
            "needs_background": "light"
          }
        }
      ]
    },
    {
      "cell_type": "code",
      "metadata": {
        "id": "Q9jNeRnlAbq7"
      },
      "source": [
        "y_train_1 = tf.ones(x_train_1.shape[0])*0\n",
        "y_train_2 = tf.ones(x_train_2.shape[0])*1\n",
        "y_train_3 = tf.ones(x_train_3.shape[0])*2"
      ],
      "execution_count": 8,
      "outputs": []
    },
    {
      "cell_type": "code",
      "metadata": {
        "id": "5id1MK_ZqDMZ"
      },
      "source": [
        "x_train = tf.concat([x_train_1, x_train_2, x_train_3], 0)\n",
        "y_train = tf.concat([y_train_1,y_train_2, y_train_3],0)\n",
        "#y_train = tf.cast((y_train==1),tf.int32)"
      ],
      "execution_count": 9,
      "outputs": []
    },
    {
      "cell_type": "code",
      "metadata": {
        "colab": {
          "base_uri": "https://localhost:8080/"
        },
        "id": "C0N4JxPRm1aY",
        "outputId": "5ea3b4a8-28bc-4069-a072-74fe801c0c06"
      },
      "source": [
        "y_train"
      ],
      "execution_count": 10,
      "outputs": [
        {
          "output_type": "execute_result",
          "data": {
            "text/plain": [
              "<tf.Tensor: shape=(15000,), dtype=float32, numpy=array([0., 0., 0., ..., 2., 2., 2.], dtype=float32)>"
            ]
          },
          "metadata": {},
          "execution_count": 10
        }
      ]
    },
    {
      "cell_type": "markdown",
      "metadata": {
        "id": "L7nCAfkey9mg"
      },
      "source": [
        "### Split dataset"
      ]
    },
    {
      "cell_type": "markdown",
      "metadata": {
        "id": "JtHgCeXszGFL"
      },
      "source": [
        "Split the train set to 70% of training data and remaining 30% as validation set."
      ]
    },
    {
      "cell_type": "code",
      "source": [
        "x_train = x_train / 255\n",
        "x_test = x_test / 255"
      ],
      "metadata": {
        "id": "ZfnrJJ9YeO-Q"
      },
      "execution_count": 11,
      "outputs": []
    },
    {
      "cell_type": "code",
      "source": [
        "from sklearn.model_selection import train_test_split"
      ],
      "metadata": {
        "id": "_ay23nQJg8dv"
      },
      "execution_count": 12,
      "outputs": []
    },
    {
      "cell_type": "code",
      "source": [
        "X_train, X_val, y_train, y_val = train_test_split(x_train.numpy(), y_train.numpy(), test_size=0.3, random_state=46)"
      ],
      "metadata": {
        "id": "Cq90Yqb7Y9aV"
      },
      "execution_count": 13,
      "outputs": []
    },
    {
      "cell_type": "code",
      "source": [
        "X_train, X_val = tf.constant(X_train), tf.constant(X_val)\n",
        "y_train, y_val = tf.constant(y_train), tf.constant(y_val)"
      ],
      "metadata": {
        "id": "5RW8kx-MgB7g"
      },
      "execution_count": 14,
      "outputs": []
    },
    {
      "cell_type": "markdown",
      "metadata": {
        "id": "Q5ZH9G6ezQiE"
      },
      "source": [
        "### Build Network"
      ]
    },
    {
      "cell_type": "markdown",
      "metadata": {
        "id": "egeL1AOXofaP"
      },
      "source": [
        "We will build a function to create our intended network with given initializer and activation function. The flatten, first hidden layer, and output layer has been defined, now it's your turn to fill the remaining hidden layers."
      ]
    },
    {
      "cell_type": "code",
      "metadata": {
        "id": "GttJJcuSzSf_"
      },
      "source": [
        "def build_network(weight_init=tf.keras.initializers.GlorotNormal(),hidden_act_func='relu'):\n",
        "  model = keras.models.Sequential()\n",
        "  # Flatten layer\n",
        "  model.add(keras.layers.Flatten(input_shape=[32, 32]))\n",
        "\n",
        "  # Hidden layers\n",
        "  # First hidden layer\n",
        "  model.add(keras.layers.Dense(300,kernel_initializer=weight_init, activation=hidden_act_func))\n",
        "  model.add(keras.layers.Dense(50,kernel_initializer=weight_init, activation=hidden_act_func))\n",
        "  model.add(keras.layers.Dense(15,kernel_initializer=weight_init, activation=hidden_act_func))\n",
        "  model.add(keras.layers.Dense(8,kernel_initializer=weight_init, activation=hidden_act_func))\n",
        "  \n",
        "\n",
        "  # Output layer\n",
        "  model.add(keras.layers.Dense(3, activation=\"softmax\"))\n",
        "  return model"
      ],
      "execution_count": 15,
      "outputs": []
    },
    {
      "cell_type": "code",
      "source": [
        "X_train.shape"
      ],
      "metadata": {
        "colab": {
          "base_uri": "https://localhost:8080/"
        },
        "id": "1cWLtj0LiXZ-",
        "outputId": "854a2793-60b1-400d-d394-a3347fdbe175"
      },
      "execution_count": 17,
      "outputs": [
        {
          "output_type": "execute_result",
          "data": {
            "text/plain": [
              "TensorShape([10500, 32, 32])"
            ]
          },
          "metadata": {},
          "execution_count": 17
        }
      ]
    },
    {
      "cell_type": "markdown",
      "metadata": {
        "id": "y7YrsehsnMVs"
      },
      "source": [
        "## Parameter setting"
      ]
    },
    {
      "cell_type": "markdown",
      "metadata": {
        "id": "sk7ie4zLnQku"
      },
      "source": [
        "### Initializers"
      ]
    },
    {
      "cell_type": "markdown",
      "metadata": {
        "id": "k5ip04SvnSgg"
      },
      "source": [
        ""
      ]
    },
    {
      "cell_type": "code",
      "metadata": {
        "id": "z2WBbasTnPRq"
      },
      "source": [
        "initializer1 = tf.keras.initializers.GlorotNormal() #Glorot Initializer\n",
        "glorot_model = build_network(weight_init = initializer1)\n",
        "\n",
        "#He Initializer\n",
        "#Random normal Initializer"
      ],
      "execution_count": 19,
      "outputs": []
    },
    {
      "cell_type": "code",
      "source": [
        "initializer2 = tf.keras.initializers.HeNormal() #He Initializer\n",
        "he_model = build_network(weight_init = initializer2)"
      ],
      "metadata": {
        "id": "s6iKdzT-lCrO"
      },
      "execution_count": 20,
      "outputs": []
    },
    {
      "cell_type": "code",
      "source": [
        "initializer3 = tf.keras.initializers.RandomNormal() #He Initializer\n",
        "random_model = build_network(weight_init = initializer3)"
      ],
      "metadata": {
        "id": "iv-ZWcaDl57-"
      },
      "execution_count": 21,
      "outputs": []
    },
    {
      "cell_type": "markdown",
      "metadata": {
        "id": "SgjZTrVavAqH"
      },
      "source": [
        "Inference with initial weight"
      ]
    },
    {
      "cell_type": "code",
      "metadata": {
        "colab": {
          "base_uri": "https://localhost:8080/"
        },
        "id": "_c01dqz1zQCT",
        "outputId": "e53683a7-e475-4459-e485-d4f57da0c5c4"
      },
      "source": [
        "y_train"
      ],
      "execution_count": 22,
      "outputs": [
        {
          "output_type": "execute_result",
          "data": {
            "text/plain": [
              "<tf.Tensor: shape=(10500,), dtype=float32, numpy=array([1., 2., 2., ..., 1., 2., 1.], dtype=float32)>"
            ]
          },
          "metadata": {},
          "execution_count": 22
        }
      ]
    },
    {
      "cell_type": "code",
      "metadata": {
        "id": "TDQkUhSyvDEe"
      },
      "source": [
        "glorot_model.compile(loss=\"sparse_categorical_crossentropy\",\n",
        "              optimizer=\"adam\",\n",
        "              metrics=[\"accuracy\"])"
      ],
      "execution_count": 23,
      "outputs": []
    },
    {
      "cell_type": "code",
      "metadata": {
        "colab": {
          "base_uri": "https://localhost:8080/"
        },
        "id": "efr5aa4X55aI",
        "outputId": "b9f9bd3f-ed12-4966-94b2-6297b607f0cb"
      },
      "source": [
        "history_glorot = glorot_model.fit(X_train, y_train, epochs=10)"
      ],
      "execution_count": 24,
      "outputs": [
        {
          "output_type": "stream",
          "name": "stdout",
          "text": [
            "Epoch 1/10\n",
            "329/329 [==============================] - 5s 7ms/step - loss: 1.0015 - accuracy: 0.4840\n",
            "Epoch 2/10\n",
            "329/329 [==============================] - 2s 7ms/step - loss: 0.8903 - accuracy: 0.5973\n",
            "Epoch 3/10\n",
            "329/329 [==============================] - 2s 5ms/step - loss: 0.8212 - accuracy: 0.6422\n",
            "Epoch 4/10\n",
            "329/329 [==============================] - 1s 4ms/step - loss: 0.7771 - accuracy: 0.6656\n",
            "Epoch 5/10\n",
            "329/329 [==============================] - 1s 4ms/step - loss: 0.7517 - accuracy: 0.6798\n",
            "Epoch 6/10\n",
            "329/329 [==============================] - 1s 4ms/step - loss: 0.7152 - accuracy: 0.6989\n",
            "Epoch 7/10\n",
            "329/329 [==============================] - 1s 4ms/step - loss: 0.6953 - accuracy: 0.7081\n",
            "Epoch 8/10\n",
            "329/329 [==============================] - 1s 4ms/step - loss: 0.6788 - accuracy: 0.7158\n",
            "Epoch 9/10\n",
            "329/329 [==============================] - 1s 4ms/step - loss: 0.6674 - accuracy: 0.7188\n",
            "Epoch 10/10\n",
            "329/329 [==============================] - 1s 4ms/step - loss: 0.6498 - accuracy: 0.7290\n"
          ]
        }
      ]
    },
    {
      "cell_type": "code",
      "metadata": {
        "id": "E8KGN6Lu89Ge"
      },
      "source": [
        "y_pred_glorot = glorot_model.predict(X_train)"
      ],
      "execution_count": 25,
      "outputs": []
    },
    {
      "cell_type": "code",
      "source": [
        "he_model.compile(loss=\"sparse_categorical_crossentropy\",\n",
        "              optimizer=\"adam\",\n",
        "              metrics=[\"accuracy\"])"
      ],
      "metadata": {
        "id": "4suzna1-w5nK"
      },
      "execution_count": 26,
      "outputs": []
    },
    {
      "cell_type": "code",
      "source": [
        "history_he = he_model.fit(X_train, y_train, epochs=10)"
      ],
      "metadata": {
        "colab": {
          "base_uri": "https://localhost:8080/"
        },
        "id": "IdvwtUY6xDum",
        "outputId": "98412ea3-9e7e-49e8-df39-e43671109e45"
      },
      "execution_count": 27,
      "outputs": [
        {
          "output_type": "stream",
          "name": "stdout",
          "text": [
            "Epoch 1/10\n",
            "329/329 [==============================] - 2s 4ms/step - loss: 0.9286 - accuracy: 0.5670\n",
            "Epoch 2/10\n",
            "329/329 [==============================] - 1s 4ms/step - loss: 0.8232 - accuracy: 0.6398\n",
            "Epoch 3/10\n",
            "329/329 [==============================] - 1s 4ms/step - loss: 0.7659 - accuracy: 0.6689\n",
            "Epoch 4/10\n",
            "329/329 [==============================] - 1s 4ms/step - loss: 0.7283 - accuracy: 0.6913\n",
            "Epoch 5/10\n",
            "329/329 [==============================] - 1s 4ms/step - loss: 0.7110 - accuracy: 0.6968\n",
            "Epoch 6/10\n",
            "329/329 [==============================] - 1s 4ms/step - loss: 0.6901 - accuracy: 0.7124\n",
            "Epoch 7/10\n",
            "329/329 [==============================] - 1s 4ms/step - loss: 0.6632 - accuracy: 0.7239\n",
            "Epoch 8/10\n",
            "329/329 [==============================] - 1s 4ms/step - loss: 0.6519 - accuracy: 0.7360\n",
            "Epoch 9/10\n",
            "329/329 [==============================] - 1s 4ms/step - loss: 0.6401 - accuracy: 0.7345\n",
            "Epoch 10/10\n",
            "329/329 [==============================] - 1s 4ms/step - loss: 0.6180 - accuracy: 0.7446\n"
          ]
        }
      ]
    },
    {
      "cell_type": "code",
      "source": [
        "y_pred_he = he_model.predict(X_train)"
      ],
      "metadata": {
        "id": "pUNq9Nse3EWF"
      },
      "execution_count": 28,
      "outputs": []
    },
    {
      "cell_type": "code",
      "source": [
        "random_model.compile(loss=\"sparse_categorical_crossentropy\",\n",
        "              optimizer=\"adam\",\n",
        "              metrics=[\"accuracy\"])"
      ],
      "metadata": {
        "id": "Lj9bSaS5xWS0"
      },
      "execution_count": 29,
      "outputs": []
    },
    {
      "cell_type": "code",
      "source": [
        "history_random = random_model.fit(X_train, y_train, epochs=10)"
      ],
      "metadata": {
        "colab": {
          "base_uri": "https://localhost:8080/"
        },
        "id": "RespbKL-3HqB",
        "outputId": "09f44c0d-c22e-4204-cebd-0a031316f666"
      },
      "execution_count": 30,
      "outputs": [
        {
          "output_type": "stream",
          "name": "stdout",
          "text": [
            "Epoch 1/10\n",
            "329/329 [==============================] - 2s 4ms/step - loss: 1.0031 - accuracy: 0.4981\n",
            "Epoch 2/10\n",
            "329/329 [==============================] - 1s 4ms/step - loss: 0.8448 - accuracy: 0.6268\n",
            "Epoch 3/10\n",
            "329/329 [==============================] - 1s 4ms/step - loss: 0.7648 - accuracy: 0.6728\n",
            "Epoch 4/10\n",
            "329/329 [==============================] - 1s 4ms/step - loss: 0.7239 - accuracy: 0.6905\n",
            "Epoch 5/10\n",
            "329/329 [==============================] - 1s 4ms/step - loss: 0.7029 - accuracy: 0.7020\n",
            "Epoch 6/10\n",
            "329/329 [==============================] - 1s 4ms/step - loss: 0.6792 - accuracy: 0.7172\n",
            "Epoch 7/10\n",
            "329/329 [==============================] - 1s 4ms/step - loss: 0.6592 - accuracy: 0.7274\n",
            "Epoch 8/10\n",
            "329/329 [==============================] - 1s 4ms/step - loss: 0.6485 - accuracy: 0.7338\n",
            "Epoch 9/10\n",
            "329/329 [==============================] - 1s 4ms/step - loss: 0.6271 - accuracy: 0.7434\n",
            "Epoch 10/10\n",
            "329/329 [==============================] - 1s 4ms/step - loss: 0.6127 - accuracy: 0.7512\n"
          ]
        }
      ]
    },
    {
      "cell_type": "markdown",
      "metadata": {
        "id": "2HU6qIA-2bY7"
      },
      "source": [
        "## Activation Function"
      ]
    },
    {
      "cell_type": "markdown",
      "metadata": {
        "id": "mrMCglPj2ktl"
      },
      "source": [
        "Sigmoid actiation function"
      ]
    },
    {
      "cell_type": "code",
      "source": [
        "sigmoid_model = build_network(weight_init=tf.keras.initializers.GlorotNormal(), hidden_act_func='sigmoid')"
      ],
      "metadata": {
        "id": "edc3M-BC4-_r"
      },
      "execution_count": 31,
      "outputs": []
    },
    {
      "cell_type": "code",
      "source": [
        "sigmoid_model.compile(loss=\"sparse_categorical_crossentropy\",\n",
        "              optimizer=\"adam\",\n",
        "              metrics=[\"accuracy\"])"
      ],
      "metadata": {
        "id": "qnnI3HpC63xM"
      },
      "execution_count": 32,
      "outputs": []
    },
    {
      "cell_type": "code",
      "source": [
        "history_sigmoid = sigmoid_model.fit(X_train, y_train, epochs=10)"
      ],
      "metadata": {
        "colab": {
          "base_uri": "https://localhost:8080/"
        },
        "id": "d5aAl0mt69Io",
        "outputId": "a2adcfaf-2ee7-45a7-83d3-426771fb9080"
      },
      "execution_count": 33,
      "outputs": [
        {
          "output_type": "stream",
          "name": "stdout",
          "text": [
            "Epoch 1/10\n",
            "329/329 [==============================] - 2s 4ms/step - loss: 1.0306 - accuracy: 0.4904\n",
            "Epoch 2/10\n",
            "329/329 [==============================] - 1s 4ms/step - loss: 0.9061 - accuracy: 0.6187\n",
            "Epoch 3/10\n",
            "329/329 [==============================] - 1s 4ms/step - loss: 0.8143 - accuracy: 0.6582\n",
            "Epoch 4/10\n",
            "329/329 [==============================] - 1s 4ms/step - loss: 0.7686 - accuracy: 0.6816\n",
            "Epoch 5/10\n",
            "329/329 [==============================] - 1s 4ms/step - loss: 0.7257 - accuracy: 0.7030\n",
            "Epoch 6/10\n",
            "329/329 [==============================] - 1s 4ms/step - loss: 0.7086 - accuracy: 0.7118\n",
            "Epoch 7/10\n",
            "329/329 [==============================] - 1s 4ms/step - loss: 0.6814 - accuracy: 0.7255\n",
            "Epoch 8/10\n",
            "329/329 [==============================] - 1s 4ms/step - loss: 0.6667 - accuracy: 0.7348\n",
            "Epoch 9/10\n",
            "329/329 [==============================] - 1s 4ms/step - loss: 0.6493 - accuracy: 0.7408\n",
            "Epoch 10/10\n",
            "329/329 [==============================] - 1s 4ms/step - loss: 0.6312 - accuracy: 0.7528\n"
          ]
        }
      ]
    },
    {
      "cell_type": "markdown",
      "metadata": {
        "id": "-yhy7Doa2nmz"
      },
      "source": [
        "ReLU Activation function"
      ]
    },
    {
      "cell_type": "code",
      "metadata": {
        "id": "FReHq9tR2h_C"
      },
      "source": [
        "relu_model = build_network(weight_init=tf.keras.initializers.GlorotNormal(), hidden_act_func='relu')"
      ],
      "execution_count": 34,
      "outputs": []
    },
    {
      "cell_type": "code",
      "source": [
        "relu_model.compile(loss=\"sparse_categorical_crossentropy\",\n",
        "              optimizer=\"adam\",\n",
        "              metrics=[\"accuracy\"])"
      ],
      "metadata": {
        "id": "I-Ko3tPK7OTL"
      },
      "execution_count": 35,
      "outputs": []
    },
    {
      "cell_type": "code",
      "source": [
        "history_relu = relu_model.fit(X_train, y_train, epochs=10)"
      ],
      "metadata": {
        "colab": {
          "base_uri": "https://localhost:8080/"
        },
        "id": "NVmHtenp7Uyj",
        "outputId": "8b827ed2-15bf-4f3a-e7bd-a1e351027078"
      },
      "execution_count": 36,
      "outputs": [
        {
          "output_type": "stream",
          "name": "stdout",
          "text": [
            "Epoch 1/10\n",
            "329/329 [==============================] - 2s 4ms/step - loss: 1.0800 - accuracy: 0.4029\n",
            "Epoch 2/10\n",
            "329/329 [==============================] - 2s 5ms/step - loss: 1.0438 - accuracy: 0.4537\n",
            "Epoch 3/10\n",
            "329/329 [==============================] - 2s 5ms/step - loss: 1.0058 - accuracy: 0.4672\n",
            "Epoch 4/10\n",
            "329/329 [==============================] - 2s 5ms/step - loss: 0.9755 - accuracy: 0.4758\n",
            "Epoch 5/10\n",
            "329/329 [==============================] - 1s 4ms/step - loss: 0.9509 - accuracy: 0.5301\n",
            "Epoch 6/10\n",
            "329/329 [==============================] - 1s 4ms/step - loss: 0.9184 - accuracy: 0.5648\n",
            "Epoch 7/10\n",
            "329/329 [==============================] - 1s 4ms/step - loss: 0.8154 - accuracy: 0.6378\n",
            "Epoch 8/10\n",
            "329/329 [==============================] - 1s 4ms/step - loss: 0.7403 - accuracy: 0.6850\n",
            "Epoch 9/10\n",
            "329/329 [==============================] - 1s 4ms/step - loss: 0.6995 - accuracy: 0.7050\n",
            "Epoch 10/10\n",
            "329/329 [==============================] - 1s 4ms/step - loss: 0.6764 - accuracy: 0.7162\n"
          ]
        }
      ]
    },
    {
      "cell_type": "markdown",
      "metadata": {
        "id": "xmaTut4W2pnm"
      },
      "source": [
        "Linear activation function"
      ]
    },
    {
      "cell_type": "code",
      "metadata": {
        "id": "ZEi5pySu2q2o"
      },
      "source": [
        "linear_model = build_network(weight_init=tf.keras.initializers.GlorotNormal(), hidden_act_func='linear')"
      ],
      "execution_count": 37,
      "outputs": []
    },
    {
      "cell_type": "code",
      "source": [
        "linear_model.compile(loss=\"sparse_categorical_crossentropy\",\n",
        "              optimizer=\"adam\",\n",
        "              metrics=[\"accuracy\"])"
      ],
      "metadata": {
        "id": "doY6SldG7sOp"
      },
      "execution_count": 38,
      "outputs": []
    },
    {
      "cell_type": "code",
      "source": [
        "history_linear = linear_model.fit(X_train, y_train, epochs=10)"
      ],
      "metadata": {
        "colab": {
          "base_uri": "https://localhost:8080/"
        },
        "id": "07sb8Bls7yMH",
        "outputId": "349d2ac0-963e-4f1c-dcd0-71f1f8150eb6"
      },
      "execution_count": 39,
      "outputs": [
        {
          "output_type": "stream",
          "name": "stdout",
          "text": [
            "Epoch 1/10\n",
            "329/329 [==============================] - 2s 4ms/step - loss: 1.0781 - accuracy: 0.5488\n",
            "Epoch 2/10\n",
            "329/329 [==============================] - 1s 4ms/step - loss: 0.9033 - accuracy: 0.5935\n",
            "Epoch 3/10\n",
            "329/329 [==============================] - 1s 4ms/step - loss: 0.8826 - accuracy: 0.6126\n",
            "Epoch 4/10\n",
            "329/329 [==============================] - 1s 4ms/step - loss: 0.8676 - accuracy: 0.6196\n",
            "Epoch 5/10\n",
            "329/329 [==============================] - 1s 4ms/step - loss: 0.8640 - accuracy: 0.6222\n",
            "Epoch 6/10\n",
            "329/329 [==============================] - 1s 4ms/step - loss: 0.8595 - accuracy: 0.6210\n",
            "Epoch 7/10\n",
            "329/329 [==============================] - 1s 4ms/step - loss: 0.8494 - accuracy: 0.6310\n",
            "Epoch 8/10\n",
            "329/329 [==============================] - 1s 4ms/step - loss: 0.8529 - accuracy: 0.6270\n",
            "Epoch 9/10\n",
            "329/329 [==============================] - 1s 4ms/step - loss: 0.8527 - accuracy: 0.6252\n",
            "Epoch 10/10\n",
            "329/329 [==============================] - 1s 4ms/step - loss: 0.8437 - accuracy: 0.6373\n"
          ]
        }
      ]
    },
    {
      "cell_type": "markdown",
      "metadata": {
        "id": "9jRzQkt42r7y"
      },
      "source": [
        "Choose the most optimal activation function and let's move to the next step"
      ]
    },
    {
      "cell_type": "markdown",
      "metadata": {
        "id": "-p1iCgo42xFL"
      },
      "source": [
        "### Optimizers"
      ]
    },
    {
      "cell_type": "markdown",
      "metadata": {
        "id": "HH7b5Dfj21gL"
      },
      "source": [
        "SGD"
      ]
    },
    {
      "cell_type": "code",
      "source": [
        "sigmoid_model.compile(loss=\"sparse_categorical_crossentropy\",\n",
        "              optimizer=\"sgd\",\n",
        "              metrics=[\"accuracy\"])"
      ],
      "metadata": {
        "id": "xoatZjSz8DpX"
      },
      "execution_count": 40,
      "outputs": []
    },
    {
      "cell_type": "code",
      "source": [
        "history_sgd = sigmoid_model.fit(X_train, y_train, epochs=10)"
      ],
      "metadata": {
        "colab": {
          "base_uri": "https://localhost:8080/"
        },
        "id": "QYuE6GId8e4E",
        "outputId": "732d6616-a979-491b-ef63-668c524fd821"
      },
      "execution_count": 41,
      "outputs": [
        {
          "output_type": "stream",
          "name": "stdout",
          "text": [
            "Epoch 1/10\n",
            "329/329 [==============================] - 2s 4ms/step - loss: 0.5831 - accuracy: 0.7806\n",
            "Epoch 2/10\n",
            "329/329 [==============================] - 1s 4ms/step - loss: 0.5758 - accuracy: 0.7837\n",
            "Epoch 3/10\n",
            "329/329 [==============================] - 1s 3ms/step - loss: 0.5721 - accuracy: 0.7840\n",
            "Epoch 4/10\n",
            "329/329 [==============================] - 1s 4ms/step - loss: 0.5696 - accuracy: 0.7833\n",
            "Epoch 5/10\n",
            "329/329 [==============================] - 1s 3ms/step - loss: 0.5674 - accuracy: 0.7870\n",
            "Epoch 6/10\n",
            "329/329 [==============================] - 1s 3ms/step - loss: 0.5657 - accuracy: 0.7865\n",
            "Epoch 7/10\n",
            "329/329 [==============================] - 1s 4ms/step - loss: 0.5637 - accuracy: 0.7882\n",
            "Epoch 8/10\n",
            "329/329 [==============================] - 1s 3ms/step - loss: 0.5630 - accuracy: 0.7870\n",
            "Epoch 9/10\n",
            "329/329 [==============================] - 1s 3ms/step - loss: 0.5615 - accuracy: 0.7872\n",
            "Epoch 10/10\n",
            "329/329 [==============================] - 1s 3ms/step - loss: 0.5605 - accuracy: 0.7886\n"
          ]
        }
      ]
    },
    {
      "cell_type": "markdown",
      "metadata": {
        "id": "KU3RD9FU23bZ"
      },
      "source": [
        "SGD with Nesterov"
      ]
    },
    {
      "cell_type": "code",
      "source": [
        ""
      ],
      "metadata": {
        "id": "ts5IVruJ800c"
      },
      "execution_count": 41,
      "outputs": []
    },
    {
      "cell_type": "markdown",
      "metadata": {
        "id": "GmIkH0zk25Pk"
      },
      "source": [
        "ADAM"
      ]
    },
    {
      "cell_type": "code",
      "source": [
        "sigmoid_model.compile(loss=\"sparse_categorical_crossentropy\",\n",
        "              optimizer=\"adam\",\n",
        "              metrics=[\"accuracy\"])"
      ],
      "metadata": {
        "id": "SZX9Jjp59YvN"
      },
      "execution_count": 42,
      "outputs": []
    },
    {
      "cell_type": "code",
      "source": [
        "history_adam = sigmoid_model.fit(X_train, y_train, epochs=10)"
      ],
      "metadata": {
        "colab": {
          "base_uri": "https://localhost:8080/"
        },
        "id": "l7HVkjFw97-1",
        "outputId": "3cfef6ff-26a9-4efd-81d8-08a649f41f9c"
      },
      "execution_count": 43,
      "outputs": [
        {
          "output_type": "stream",
          "name": "stdout",
          "text": [
            "Epoch 1/10\n",
            "329/329 [==============================] - 2s 4ms/step - loss: 0.5935 - accuracy: 0.7706\n",
            "Epoch 2/10\n",
            "329/329 [==============================] - 1s 4ms/step - loss: 0.5784 - accuracy: 0.7760\n",
            "Epoch 3/10\n",
            "329/329 [==============================] - 1s 4ms/step - loss: 0.5633 - accuracy: 0.7799\n",
            "Epoch 4/10\n",
            "329/329 [==============================] - 1s 4ms/step - loss: 0.5439 - accuracy: 0.7903\n",
            "Epoch 5/10\n",
            "329/329 [==============================] - 1s 4ms/step - loss: 0.5259 - accuracy: 0.7982\n",
            "Epoch 6/10\n",
            "329/329 [==============================] - 1s 4ms/step - loss: 0.5187 - accuracy: 0.8008\n",
            "Epoch 7/10\n",
            "329/329 [==============================] - 1s 4ms/step - loss: 0.5066 - accuracy: 0.8042\n",
            "Epoch 8/10\n",
            "329/329 [==============================] - 1s 4ms/step - loss: 0.4901 - accuracy: 0.8138\n",
            "Epoch 9/10\n",
            "329/329 [==============================] - 1s 4ms/step - loss: 0.4702 - accuracy: 0.8191\n",
            "Epoch 10/10\n",
            "329/329 [==============================] - 1s 4ms/step - loss: 0.4529 - accuracy: 0.8289\n"
          ]
        }
      ]
    },
    {
      "cell_type": "markdown",
      "metadata": {
        "id": "rmpGmTHa263O"
      },
      "source": [
        "## Full train"
      ]
    },
    {
      "cell_type": "markdown",
      "metadata": {
        "id": "riLV7G5328gp"
      },
      "source": [
        "Now that we have choose our weight initializer, activation function, and optimizer, let's initiate a new network and fully train it in long epochs to achieve most optimal result."
      ]
    },
    {
      "cell_type": "code",
      "metadata": {
        "id": "yvYBtjJQ2wAG"
      },
      "source": [
        "# funtional API\n",
        "from keras.models import Model\n",
        "from keras.layers import Input, Dense, Flatten, Dropout\n",
        "\n",
        "data_in = Input(shape=(32,32))\n",
        "data_flat = Flatten()(data_in)\n",
        "hidden_1 = Dense(300, kernel_initializer=keras.initializers.GlorotNormal(), activation='relu')(data_flat)\n",
        "hidden_2 = Dense(50, kernel_initializer=keras.initializers.GlorotNormal(), activation='relu')(hidden_1)\n",
        "hidden_3 = Dense(15, kernel_initializer=keras.initializers.GlorotNormal(), activation='relu')(hidden_2)\n",
        "hidden_4 = Dense(8, kernel_initializer=keras.initializers.GlorotNormal(), activation='relu')(hidden_3)\n",
        "out = Dense(3, activation='sigmoid')(hidden_4)"
      ],
      "execution_count": 68,
      "outputs": []
    },
    {
      "cell_type": "code",
      "source": [
        "model_final = Model(inputs=data_in, outputs=out)"
      ],
      "metadata": {
        "id": "Rces8g4_awdP"
      },
      "execution_count": 69,
      "outputs": []
    },
    {
      "cell_type": "code",
      "source": [
        "# compile\n",
        "model_final.compile(loss='sparse_categorical_crossentropy',\n",
        "              optimizer='adam', # paling modern\n",
        "              metrics=['accuracy'])"
      ],
      "metadata": {
        "id": "6CjcYNdaawb4"
      },
      "execution_count": 73,
      "outputs": []
    },
    {
      "cell_type": "markdown",
      "metadata": {
        "id": "SEJlV2PH3K9M"
      },
      "source": [
        "Loss curve analysis"
      ]
    },
    {
      "cell_type": "code",
      "metadata": {
        "id": "gsRKP2M43MNE",
        "colab": {
          "base_uri": "https://localhost:8080/"
        },
        "outputId": "824fe293-415d-44c5-ded4-0f9614a05e4f"
      },
      "source": [
        "# train\n",
        "history_final = model_final.fit(X_train, y_train, epochs=30, validation_data=(X_val, y_val))"
      ],
      "execution_count": 74,
      "outputs": [
        {
          "output_type": "stream",
          "name": "stdout",
          "text": [
            "Epoch 1/30\n",
            "329/329 [==============================] - 3s 6ms/step - loss: 0.9610 - accuracy: 0.5337 - val_loss: 0.8825 - val_accuracy: 0.5929\n",
            "Epoch 2/30\n",
            "329/329 [==============================] - 2s 6ms/step - loss: 0.8367 - accuracy: 0.6324 - val_loss: 0.7951 - val_accuracy: 0.6640\n",
            "Epoch 3/30\n",
            "329/329 [==============================] - 2s 5ms/step - loss: 0.7855 - accuracy: 0.6614 - val_loss: 0.7883 - val_accuracy: 0.6687\n",
            "Epoch 4/30\n",
            "329/329 [==============================] - 2s 5ms/step - loss: 0.7440 - accuracy: 0.6855 - val_loss: 0.7969 - val_accuracy: 0.6500\n",
            "Epoch 5/30\n",
            "329/329 [==============================] - 2s 6ms/step - loss: 0.7148 - accuracy: 0.7009 - val_loss: 0.7348 - val_accuracy: 0.6920\n",
            "Epoch 6/30\n",
            "329/329 [==============================] - 3s 8ms/step - loss: 0.6999 - accuracy: 0.7027 - val_loss: 0.7346 - val_accuracy: 0.6893\n",
            "Epoch 7/30\n",
            "329/329 [==============================] - 2s 7ms/step - loss: 0.6742 - accuracy: 0.7208 - val_loss: 0.7197 - val_accuracy: 0.6969\n",
            "Epoch 8/30\n",
            "329/329 [==============================] - 2s 8ms/step - loss: 0.6593 - accuracy: 0.7253 - val_loss: 0.6935 - val_accuracy: 0.7147\n",
            "Epoch 9/30\n",
            "329/329 [==============================] - 2s 7ms/step - loss: 0.6422 - accuracy: 0.7330 - val_loss: 0.7078 - val_accuracy: 0.7078\n",
            "Epoch 10/30\n",
            "329/329 [==============================] - 2s 7ms/step - loss: 0.6239 - accuracy: 0.7419 - val_loss: 0.7210 - val_accuracy: 0.7116\n",
            "Epoch 11/30\n",
            "329/329 [==============================] - 2s 6ms/step - loss: 0.6157 - accuracy: 0.7484 - val_loss: 0.7800 - val_accuracy: 0.6678\n",
            "Epoch 12/30\n",
            "329/329 [==============================] - 2s 6ms/step - loss: 0.5904 - accuracy: 0.7590 - val_loss: 0.7001 - val_accuracy: 0.7171\n",
            "Epoch 13/30\n",
            "329/329 [==============================] - 2s 6ms/step - loss: 0.5872 - accuracy: 0.7566 - val_loss: 0.7206 - val_accuracy: 0.7024\n",
            "Epoch 14/30\n",
            "329/329 [==============================] - 2s 5ms/step - loss: 0.5719 - accuracy: 0.7682 - val_loss: 0.6709 - val_accuracy: 0.7273\n",
            "Epoch 15/30\n",
            "329/329 [==============================] - 2s 6ms/step - loss: 0.5616 - accuracy: 0.7762 - val_loss: 0.7200 - val_accuracy: 0.7198\n",
            "Epoch 16/30\n",
            "329/329 [==============================] - 2s 5ms/step - loss: 0.5602 - accuracy: 0.7771 - val_loss: 0.6743 - val_accuracy: 0.7262\n",
            "Epoch 17/30\n",
            "329/329 [==============================] - 2s 6ms/step - loss: 0.5322 - accuracy: 0.7849 - val_loss: 0.6464 - val_accuracy: 0.7360\n",
            "Epoch 18/30\n",
            "329/329 [==============================] - 2s 5ms/step - loss: 0.5289 - accuracy: 0.7899 - val_loss: 0.6471 - val_accuracy: 0.7478\n",
            "Epoch 19/30\n",
            "329/329 [==============================] - 2s 6ms/step - loss: 0.5143 - accuracy: 0.7931 - val_loss: 0.6552 - val_accuracy: 0.7384\n",
            "Epoch 20/30\n",
            "329/329 [==============================] - 2s 5ms/step - loss: 0.5042 - accuracy: 0.7993 - val_loss: 0.6504 - val_accuracy: 0.7509\n",
            "Epoch 21/30\n",
            "329/329 [==============================] - 2s 5ms/step - loss: 0.4923 - accuracy: 0.8023 - val_loss: 0.6883 - val_accuracy: 0.7171\n",
            "Epoch 22/30\n",
            "329/329 [==============================] - 2s 6ms/step - loss: 0.4850 - accuracy: 0.8076 - val_loss: 0.6550 - val_accuracy: 0.7431\n",
            "Epoch 23/30\n",
            "329/329 [==============================] - 2s 6ms/step - loss: 0.4654 - accuracy: 0.8148 - val_loss: 0.6821 - val_accuracy: 0.7324\n",
            "Epoch 24/30\n",
            "329/329 [==============================] - 2s 6ms/step - loss: 0.4586 - accuracy: 0.8159 - val_loss: 0.6736 - val_accuracy: 0.7344\n",
            "Epoch 25/30\n",
            "329/329 [==============================] - 2s 5ms/step - loss: 0.4473 - accuracy: 0.8214 - val_loss: 0.6915 - val_accuracy: 0.7462\n",
            "Epoch 26/30\n",
            "329/329 [==============================] - 2s 5ms/step - loss: 0.4434 - accuracy: 0.8213 - val_loss: 0.6865 - val_accuracy: 0.7404\n",
            "Epoch 27/30\n",
            "329/329 [==============================] - 2s 5ms/step - loss: 0.4359 - accuracy: 0.8309 - val_loss: 0.7072 - val_accuracy: 0.7249\n",
            "Epoch 28/30\n",
            "329/329 [==============================] - 2s 6ms/step - loss: 0.4195 - accuracy: 0.8362 - val_loss: 0.6590 - val_accuracy: 0.7520\n",
            "Epoch 29/30\n",
            "329/329 [==============================] - 2s 5ms/step - loss: 0.4067 - accuracy: 0.8396 - val_loss: 0.6792 - val_accuracy: 0.7440\n",
            "Epoch 30/30\n",
            "329/329 [==============================] - 2s 5ms/step - loss: 0.4011 - accuracy: 0.8437 - val_loss: 0.6654 - val_accuracy: 0.7411\n"
          ]
        }
      ]
    },
    {
      "cell_type": "code",
      "source": [
        "import pandas as pd\n",
        "metrics = pd.DataFrame(history_final.history)\n",
        "metrics[['loss', 'val_loss']].plot();\n",
        "metrics[['accuracy', 'val_accuracy']].plot();"
      ],
      "metadata": {
        "colab": {
          "base_uri": "https://localhost:8080/",
          "height": 513
        },
        "id": "lJXxvCbbf-ru",
        "outputId": "d75edbe3-0ece-422f-9cca-ec5430d5ac40"
      },
      "execution_count": 78,
      "outputs": [
        {
          "output_type": "display_data",
          "data": {
            "text/plain": [
              "<Figure size 432x288 with 1 Axes>"
            ],
            "image/png": "[encoded data removed]"
          },
          "metadata": {
            "needs_background": "light"
          }
        },
        {
          "output_type": "display_data",
          "data": {
            "text/plain": [
              "<Figure size 432x288 with 1 Axes>"
            ],
            "image/png": "[encoded data removed]"
          },
          "metadata": {
            "needs_background": "light"
          }
        }
      ]
    },
    {
      "cell_type": "markdown",
      "source": [
        "Data terlihat overfit."
      ],
      "metadata": {
        "id": "_wBDtMpCksJf"
      }
    },
    {
      "cell_type": "markdown",
      "metadata": {
        "id": "GPyw4xQq3MyC"
      },
      "source": [
        "## Next steps"
      ]
    },
    {
      "cell_type": "markdown",
      "metadata": {
        "id": "BJZrGFL13OHK"
      },
      "source": [
        "Congratulations! You have just completed simple hyperparameter choosing for your own network! Asides from all the properties we tested, neural network still contain other hyperparam such as number of layers and layer sizes. Try to play with them and conduct the experiments. See if you can beat your current model accuracy, and try to understand what parameter effect the accuracy and how to control them. Happy hunting!"
      ]
    },
    {
      "cell_type": "code",
      "metadata": {
        "id": "dY8i_vAA3m0A"
      },
      "source": [
        ""
      ],
      "execution_count": 43,
      "outputs": []
    }
  ]
}